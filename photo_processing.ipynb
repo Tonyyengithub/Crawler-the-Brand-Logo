{
 "cells": [
  {
   "cell_type": "code",
   "execution_count": 1,
   "metadata": {},
   "outputs": [],
   "source": [
    "import pandas as pd\n",
    "import numpy as np\n",
    "from selenium import webdriver\n",
    "from datetime import datetime\n",
    "from selenium.webdriver.common.keys import Keys\n",
    "import time\n",
    "import os"
   ]
  },
  {
   "cell_type": "code",
   "execution_count": 2,
   "metadata": {},
   "outputs": [
    {
     "data": {
      "text/plain": [
       "0      Nike\n",
       "1    Adidas\n",
       "2        HP\n",
       "3      Dell\n",
       "4      Line\n",
       "Name: brand, dtype: object"
      ]
     },
     "execution_count": 2,
     "metadata": {},
     "output_type": "execute_result"
    }
   ],
   "source": [
    "# The target list we are going to scrab\n",
    "driver = webdriver.Chrome('./chromedriver')\n",
    "df = pd.read_csv(\"try.csv\")\n",
    "df.brand.head()"
   ]
  },
  {
   "cell_type": "code",
   "execution_count": 3,
   "metadata": {},
   "outputs": [],
   "source": [
    "# make a new folder to save the photos\n",
    "string = datetime.now().strftime(\"%m%d_%H%M%S\") \n",
    "os.makedirs(string)\n",
    "\n",
    "os.chdir(string)"
   ]
  },
  {
   "cell_type": "code",
   "execution_count": 4,
   "metadata": {
    "scrolled": true
   },
   "outputs": [],
   "source": [
    "global str\n",
    "\n",
    "\n",
    "for i in df.brand:\n",
    "    driver.get(\"https://seeklogo.com/\")\n",
    "    time.sleep(2)\n",
    "    search_name = driver.find_element_by_xpath(\"//*[@id=\\\"searchBarInput\\\"]\")\n",
    "    search_name.clear()\n",
    "    search_name.send_keys(i)\n",
    "    time.sleep(1)\n",
    "    search_buttom = driver.find_element_by_xpath(\"//*[@id=\\\"searchBarButton\\\"]\").click()\n",
    "    time.sleep(1)\n",
    "    img = driver.find_element_by_class_name('logo-image')\n",
    "    \n",
    "    # solving the problem that we cannot print the Logo name with '.jpg' at the same time\n",
    "    Logo_str = str(i)\n",
    "    Logo_name = Logo_str + '.png'\n",
    "    \n",
    "    # screenshot the selected location\n",
    "    imgg = img.screenshot_as_png\n",
    "    \n",
    "    # Saving the file\n",
    "    with open(Logo_name, 'wb') as f:\n",
    "        f.write(imgg)\n",
    "        \n",
    "    time.sleep(2)\n",
    "        \n",
    "driver.close()"
   ]
  },
  {
   "cell_type": "code",
   "execution_count": null,
   "metadata": {},
   "outputs": [],
   "source": []
  },
  {
   "cell_type": "code",
   "execution_count": null,
   "metadata": {},
   "outputs": [],
   "source": []
  }
 ],
 "metadata": {
  "kernelspec": {
   "display_name": "Python 3",
   "language": "python",
   "name": "python3"
  },
  "language_info": {
   "codemirror_mode": {
    "name": "ipython",
    "version": 3
   },
   "file_extension": ".py",
   "mimetype": "text/x-python",
   "name": "python",
   "nbconvert_exporter": "python",
   "pygments_lexer": "ipython3",
   "version": "3.8.3"
  }
 },
 "nbformat": 4,
 "nbformat_minor": 4
}
